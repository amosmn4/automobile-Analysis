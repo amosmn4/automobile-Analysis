{
  "cells": [
    {
      "cell_type": "markdown",
      "source": [
        "**Decision Tree Using Gini Impurity and Information Gain**"
      ],
      "metadata": {
        "id": "-cvTvLfB7cVI"
      },
      "id": "-cvTvLfB7cVI"
    },
    {
      "cell_type": "code",
      "source": [
        "import pandas as pd\n",
        "\n",
        "# Define the dataset with columns for Sepal Length, Sepal Width, Petal Length, Petal Width, and Class\n",
        "data = [\n",
        "    [5.1, 3.5, 1.4, 0.2, 'Iris-setosa'],\n",
        "    [4.9, 3.0, 1.4, 0.2, 'Iris-setosa'],\n",
        "    [4.7, 3.2, 1.3, 0.2, 'Iris-setosa'],\n",
        "    [6.3, 3.3, 6.0, 2.5, 'Iris-virginica'],\n",
        "    [5.8, 2.7, 5.1, 1.9, 'Iris-virginica'],\n",
        "    [7.1, 3.0, 5.9, 2.1, 'Iris-virginica']\n",
        "]\n",
        "\n",
        "# Convert to a DataFrame for easier manipulation\n",
        "df = pd.DataFrame(data, columns=[\"SepalLength\", \"SepalWidth\", \"PetalLength\", \"PetalWidth\", \"Class\"])\n",
        "df\n"
      ],
      "metadata": {
        "colab": {
          "base_uri": "https://localhost:8080/",
          "height": 238
        },
        "collapsed": true,
        "id": "KokHJFpg4GFU",
        "executionInfo": {
          "status": "ok",
          "timestamp": 1731004278077,
          "user_tz": -180,
          "elapsed": 722,
          "user": {
            "displayName": "",
            "userId": ""
          }
        },
        "outputId": "a05c0c61-e4a1-4053-ddba-ad0d7d16758c"
      },
      "id": "KokHJFpg4GFU",
      "execution_count": 35,
      "outputs": [
        {
          "output_type": "execute_result",
          "data": {
            "text/plain": [
              "   SepalLength  SepalWidth  PetalLength  PetalWidth           Class\n",
              "0          5.1         3.5          1.4         0.2     Iris-setosa\n",
              "1          4.9         3.0          1.4         0.2     Iris-setosa\n",
              "2          4.7         3.2          1.3         0.2     Iris-setosa\n",
              "3          6.3         3.3          6.0         2.5  Iris-virginica\n",
              "4          5.8         2.7          5.1         1.9  Iris-virginica\n",
              "5          7.1         3.0          5.9         2.1  Iris-virginica"
            ],
            "text/html": [
              "\n",
              "  <div id=\"df-e44f7a14-b1d3-4e0b-bde0-2cd3b52624c1\" class=\"colab-df-container\">\n",
              "    <div>\n",
              "<style scoped>\n",
              "    .dataframe tbody tr th:only-of-type {\n",
              "        vertical-align: middle;\n",
              "    }\n",
              "\n",
              "    .dataframe tbody tr th {\n",
              "        vertical-align: top;\n",
              "    }\n",
              "\n",
              "    .dataframe thead th {\n",
              "        text-align: right;\n",
              "    }\n",
              "</style>\n",
              "<table border=\"1\" class=\"dataframe\">\n",
              "  <thead>\n",
              "    <tr style=\"text-align: right;\">\n",
              "      <th></th>\n",
              "      <th>SepalLength</th>\n",
              "      <th>SepalWidth</th>\n",
              "      <th>PetalLength</th>\n",
              "      <th>PetalWidth</th>\n",
              "      <th>Class</th>\n",
              "    </tr>\n",
              "  </thead>\n",
              "  <tbody>\n",
              "    <tr>\n",
              "      <th>0</th>\n",
              "      <td>5.1</td>\n",
              "      <td>3.5</td>\n",
              "      <td>1.4</td>\n",
              "      <td>0.2</td>\n",
              "      <td>Iris-setosa</td>\n",
              "    </tr>\n",
              "    <tr>\n",
              "      <th>1</th>\n",
              "      <td>4.9</td>\n",
              "      <td>3.0</td>\n",
              "      <td>1.4</td>\n",
              "      <td>0.2</td>\n",
              "      <td>Iris-setosa</td>\n",
              "    </tr>\n",
              "    <tr>\n",
              "      <th>2</th>\n",
              "      <td>4.7</td>\n",
              "      <td>3.2</td>\n",
              "      <td>1.3</td>\n",
              "      <td>0.2</td>\n",
              "      <td>Iris-setosa</td>\n",
              "    </tr>\n",
              "    <tr>\n",
              "      <th>3</th>\n",
              "      <td>6.3</td>\n",
              "      <td>3.3</td>\n",
              "      <td>6.0</td>\n",
              "      <td>2.5</td>\n",
              "      <td>Iris-virginica</td>\n",
              "    </tr>\n",
              "    <tr>\n",
              "      <th>4</th>\n",
              "      <td>5.8</td>\n",
              "      <td>2.7</td>\n",
              "      <td>5.1</td>\n",
              "      <td>1.9</td>\n",
              "      <td>Iris-virginica</td>\n",
              "    </tr>\n",
              "    <tr>\n",
              "      <th>5</th>\n",
              "      <td>7.1</td>\n",
              "      <td>3.0</td>\n",
              "      <td>5.9</td>\n",
              "      <td>2.1</td>\n",
              "      <td>Iris-virginica</td>\n",
              "    </tr>\n",
              "  </tbody>\n",
              "</table>\n",
              "</div>\n",
              "    <div class=\"colab-df-buttons\">\n",
              "\n",
              "  <div class=\"colab-df-container\">\n",
              "    <button class=\"colab-df-convert\" onclick=\"convertToInteractive('df-e44f7a14-b1d3-4e0b-bde0-2cd3b52624c1')\"\n",
              "            title=\"Convert this dataframe to an interactive table.\"\n",
              "            style=\"display:none;\">\n",
              "\n",
              "  <svg xmlns=\"http://www.w3.org/2000/svg\" height=\"24px\" viewBox=\"0 -960 960 960\">\n",
              "    <path d=\"M120-120v-720h720v720H120Zm60-500h600v-160H180v160Zm220 220h160v-160H400v160Zm0 220h160v-160H400v160ZM180-400h160v-160H180v160Zm440 0h160v-160H620v160ZM180-180h160v-160H180v160Zm440 0h160v-160H620v160Z\"/>\n",
              "  </svg>\n",
              "    </button>\n",
              "\n",
              "  <style>\n",
              "    .colab-df-container {\n",
              "      display:flex;\n",
              "      gap: 12px;\n",
              "    }\n",
              "\n",
              "    .colab-df-convert {\n",
              "      background-color: #E8F0FE;\n",
              "      border: none;\n",
              "      border-radius: 50%;\n",
              "      cursor: pointer;\n",
              "      display: none;\n",
              "      fill: #1967D2;\n",
              "      height: 32px;\n",
              "      padding: 0 0 0 0;\n",
              "      width: 32px;\n",
              "    }\n",
              "\n",
              "    .colab-df-convert:hover {\n",
              "      background-color: #E2EBFA;\n",
              "      box-shadow: 0px 1px 2px rgba(60, 64, 67, 0.3), 0px 1px 3px 1px rgba(60, 64, 67, 0.15);\n",
              "      fill: #174EA6;\n",
              "    }\n",
              "\n",
              "    .colab-df-buttons div {\n",
              "      margin-bottom: 4px;\n",
              "    }\n",
              "\n",
              "    [theme=dark] .colab-df-convert {\n",
              "      background-color: #3B4455;\n",
              "      fill: #D2E3FC;\n",
              "    }\n",
              "\n",
              "    [theme=dark] .colab-df-convert:hover {\n",
              "      background-color: #434B5C;\n",
              "      box-shadow: 0px 1px 3px 1px rgba(0, 0, 0, 0.15);\n",
              "      filter: drop-shadow(0px 1px 2px rgba(0, 0, 0, 0.3));\n",
              "      fill: #FFFFFF;\n",
              "    }\n",
              "  </style>\n",
              "\n",
              "    <script>\n",
              "      const buttonEl =\n",
              "        document.querySelector('#df-e44f7a14-b1d3-4e0b-bde0-2cd3b52624c1 button.colab-df-convert');\n",
              "      buttonEl.style.display =\n",
              "        google.colab.kernel.accessAllowed ? 'block' : 'none';\n",
              "\n",
              "      async function convertToInteractive(key) {\n",
              "        const element = document.querySelector('#df-e44f7a14-b1d3-4e0b-bde0-2cd3b52624c1');\n",
              "        const dataTable =\n",
              "          await google.colab.kernel.invokeFunction('convertToInteractive',\n",
              "                                                    [key], {});\n",
              "        if (!dataTable) return;\n",
              "\n",
              "        const docLinkHtml = 'Like what you see? Visit the ' +\n",
              "          '<a target=\"_blank\" href=https://colab.research.google.com/notebooks/data_table.ipynb>data table notebook</a>'\n",
              "          + ' to learn more about interactive tables.';\n",
              "        element.innerHTML = '';\n",
              "        dataTable['output_type'] = 'display_data';\n",
              "        await google.colab.output.renderOutput(dataTable, element);\n",
              "        const docLink = document.createElement('div');\n",
              "        docLink.innerHTML = docLinkHtml;\n",
              "        element.appendChild(docLink);\n",
              "      }\n",
              "    </script>\n",
              "  </div>\n",
              "\n",
              "\n",
              "<div id=\"df-e5304992-31a6-438d-b3ef-1b692df98728\">\n",
              "  <button class=\"colab-df-quickchart\" onclick=\"quickchart('df-e5304992-31a6-438d-b3ef-1b692df98728')\"\n",
              "            title=\"Suggest charts\"\n",
              "            style=\"display:none;\">\n",
              "\n",
              "<svg xmlns=\"http://www.w3.org/2000/svg\" height=\"24px\"viewBox=\"0 0 24 24\"\n",
              "     width=\"24px\">\n",
              "    <g>\n",
              "        <path d=\"M19 3H5c-1.1 0-2 .9-2 2v14c0 1.1.9 2 2 2h14c1.1 0 2-.9 2-2V5c0-1.1-.9-2-2-2zM9 17H7v-7h2v7zm4 0h-2V7h2v10zm4 0h-2v-4h2v4z\"/>\n",
              "    </g>\n",
              "</svg>\n",
              "  </button>\n",
              "\n",
              "<style>\n",
              "  .colab-df-quickchart {\n",
              "      --bg-color: #E8F0FE;\n",
              "      --fill-color: #1967D2;\n",
              "      --hover-bg-color: #E2EBFA;\n",
              "      --hover-fill-color: #174EA6;\n",
              "      --disabled-fill-color: #AAA;\n",
              "      --disabled-bg-color: #DDD;\n",
              "  }\n",
              "\n",
              "  [theme=dark] .colab-df-quickchart {\n",
              "      --bg-color: #3B4455;\n",
              "      --fill-color: #D2E3FC;\n",
              "      --hover-bg-color: #434B5C;\n",
              "      --hover-fill-color: #FFFFFF;\n",
              "      --disabled-bg-color: #3B4455;\n",
              "      --disabled-fill-color: #666;\n",
              "  }\n",
              "\n",
              "  .colab-df-quickchart {\n",
              "    background-color: var(--bg-color);\n",
              "    border: none;\n",
              "    border-radius: 50%;\n",
              "    cursor: pointer;\n",
              "    display: none;\n",
              "    fill: var(--fill-color);\n",
              "    height: 32px;\n",
              "    padding: 0;\n",
              "    width: 32px;\n",
              "  }\n",
              "\n",
              "  .colab-df-quickchart:hover {\n",
              "    background-color: var(--hover-bg-color);\n",
              "    box-shadow: 0 1px 2px rgba(60, 64, 67, 0.3), 0 1px 3px 1px rgba(60, 64, 67, 0.15);\n",
              "    fill: var(--button-hover-fill-color);\n",
              "  }\n",
              "\n",
              "  .colab-df-quickchart-complete:disabled,\n",
              "  .colab-df-quickchart-complete:disabled:hover {\n",
              "    background-color: var(--disabled-bg-color);\n",
              "    fill: var(--disabled-fill-color);\n",
              "    box-shadow: none;\n",
              "  }\n",
              "\n",
              "  .colab-df-spinner {\n",
              "    border: 2px solid var(--fill-color);\n",
              "    border-color: transparent;\n",
              "    border-bottom-color: var(--fill-color);\n",
              "    animation:\n",
              "      spin 1s steps(1) infinite;\n",
              "  }\n",
              "\n",
              "  @keyframes spin {\n",
              "    0% {\n",
              "      border-color: transparent;\n",
              "      border-bottom-color: var(--fill-color);\n",
              "      border-left-color: var(--fill-color);\n",
              "    }\n",
              "    20% {\n",
              "      border-color: transparent;\n",
              "      border-left-color: var(--fill-color);\n",
              "      border-top-color: var(--fill-color);\n",
              "    }\n",
              "    30% {\n",
              "      border-color: transparent;\n",
              "      border-left-color: var(--fill-color);\n",
              "      border-top-color: var(--fill-color);\n",
              "      border-right-color: var(--fill-color);\n",
              "    }\n",
              "    40% {\n",
              "      border-color: transparent;\n",
              "      border-right-color: var(--fill-color);\n",
              "      border-top-color: var(--fill-color);\n",
              "    }\n",
              "    60% {\n",
              "      border-color: transparent;\n",
              "      border-right-color: var(--fill-color);\n",
              "    }\n",
              "    80% {\n",
              "      border-color: transparent;\n",
              "      border-right-color: var(--fill-color);\n",
              "      border-bottom-color: var(--fill-color);\n",
              "    }\n",
              "    90% {\n",
              "      border-color: transparent;\n",
              "      border-bottom-color: var(--fill-color);\n",
              "    }\n",
              "  }\n",
              "</style>\n",
              "\n",
              "  <script>\n",
              "    async function quickchart(key) {\n",
              "      const quickchartButtonEl =\n",
              "        document.querySelector('#' + key + ' button');\n",
              "      quickchartButtonEl.disabled = true;  // To prevent multiple clicks.\n",
              "      quickchartButtonEl.classList.add('colab-df-spinner');\n",
              "      try {\n",
              "        const charts = await google.colab.kernel.invokeFunction(\n",
              "            'suggestCharts', [key], {});\n",
              "      } catch (error) {\n",
              "        console.error('Error during call to suggestCharts:', error);\n",
              "      }\n",
              "      quickchartButtonEl.classList.remove('colab-df-spinner');\n",
              "      quickchartButtonEl.classList.add('colab-df-quickchart-complete');\n",
              "    }\n",
              "    (() => {\n",
              "      let quickchartButtonEl =\n",
              "        document.querySelector('#df-e5304992-31a6-438d-b3ef-1b692df98728 button');\n",
              "      quickchartButtonEl.style.display =\n",
              "        google.colab.kernel.accessAllowed ? 'block' : 'none';\n",
              "    })();\n",
              "  </script>\n",
              "</div>\n",
              "    </div>\n",
              "  </div>\n"
            ]
          },
          "metadata": {},
          "execution_count": 35
        }
      ]
    },
    {
      "cell_type": "code",
      "source": [
        "# Function to calculate Gini Impurity for a split dataset\n",
        "def gini_impurity(groups, classes):\n",
        "    # Count all samples\n",
        "    n_instances = sum([len(group) for group in groups])\n",
        "    gini = 0.0\n",
        "    # Calculate Gini for each group\n",
        "    for group in groups:\n",
        "        size = len(group)\n",
        "        if size == 0:\n",
        "            continue\n",
        "        score = 0.0\n",
        "        # Score the group based on the class proportions\n",
        "        for class_val in classes:\n",
        "            proportion = [row[-1] for row in group].count(class_val) / size\n",
        "            score += proportion ** 2\n",
        "        gini += (1 - score) * (size / n_instances)\n",
        "    return gini\n",
        "\n",
        "    # Function to calculate Information Gain\n",
        "def information_gain(groups, classes, current_uncertainty):\n",
        "    n_instances = sum([len(group) for group in groups])\n",
        "    weighted_uncertainty = 0.0\n",
        "    for group in groups:\n",
        "        size = len(group)\n",
        "        if size == 0:\n",
        "            continue\n",
        "        score = 0.0\n",
        "        for class_val in classes:\n",
        "            proportion = [row[-1] for row in group].count(class_val) / size\n",
        "            score += proportion ** 2\n",
        "        weighted_uncertainty += (1 - score) * (size / n_instances)\n",
        "    return current_uncertainty - weighted_uncertainty\n",
        "\n",
        "# Function to split the dataset based on a feature and a threshold\n",
        "def test_split(index, value, dataset):\n",
        "    left, right = [], []\n",
        "    for row in dataset:\n",
        "        if row[index] < value:\n",
        "            left.append(row)\n",
        "        else:\n",
        "            right.append(row)\n",
        "    return left, right\n",
        "\n",
        "# Define the classes in the dataset\n",
        "classes = list(df['Class'].unique())\n",
        "dataset = df.values.tolist()\n",
        "# Find the best split\n",
        "def get_best_split(dataset, classes, criterion=\"gini\"):\n",
        "    best_index, best_value, best_score, best_groups = None, None, float('inf'), None\n",
        "    for index in range(len(dataset[0]) - 1):\n",
        "        for row in dataset:\n",
        "            groups = test_split(index, row[index], dataset)\n",
        "            if criterion == \"gini\":\n",
        "                score = gini_impurity(groups, classes)\n",
        "            elif criterion == \"info_gain\":\n",
        "                current_uncertainty = gini_impurity([dataset], classes)  # for simplicity\n",
        "                score = information_gain(groups, classes, current_uncertainty)\n",
        "            if score < best_score:\n",
        "                best_index, best_value, best_score, best_groups = index, row[index], score, groups\n",
        "    return {'index': best_index, 'value': best_value, 'groups': best_groups}\n",
        "\n",
        "# Find best split using Gini Impurity\n",
        "best_split_gini = get_best_split(dataset, classes, criterion=\"gini\")\n",
        "print(\"Best Split (Gini):\", best_split_gini)\n",
        "\n",
        "# Find best split using Information Gain\n",
        "best_split_info_gain = get_best_split(dataset, classes, criterion=\"info_gain\")\n",
        "print(\"Best Split (Information Gain):\", best_split_info_gain)\n"
      ],
      "metadata": {
        "colab": {
          "base_uri": "https://localhost:8080/"
        },
        "id": "2_Fwoy4I4gH0",
        "executionInfo": {
          "status": "ok",
          "timestamp": 1731004622511,
          "user_tz": -180,
          "elapsed": 737,
          "user": {
            "displayName": "",
            "userId": ""
          }
        },
        "outputId": "11a82e61-1915-4815-beca-69b0e244bbbb"
      },
      "id": "2_Fwoy4I4gH0",
      "execution_count": 36,
      "outputs": [
        {
          "output_type": "stream",
          "name": "stdout",
          "text": [
            "Best Split (Gini): {'index': 0, 'value': 5.8, 'groups': ([[5.1, 3.5, 1.4, 0.2, 'Iris-setosa'], [4.9, 3.0, 1.4, 0.2, 'Iris-setosa'], [4.7, 3.2, 1.3, 0.2, 'Iris-setosa']], [[6.3, 3.3, 6.0, 2.5, 'Iris-virginica'], [5.8, 2.7, 5.1, 1.9, 'Iris-virginica'], [7.1, 3.0, 5.9, 2.1, 'Iris-virginica']])}\n",
            "Best Split (Information Gain): {'index': 0, 'value': 4.7, 'groups': ([], [[5.1, 3.5, 1.4, 0.2, 'Iris-setosa'], [4.9, 3.0, 1.4, 0.2, 'Iris-setosa'], [4.7, 3.2, 1.3, 0.2, 'Iris-setosa'], [6.3, 3.3, 6.0, 2.5, 'Iris-virginica'], [5.8, 2.7, 5.1, 1.9, 'Iris-virginica'], [7.1, 3.0, 5.9, 2.1, 'Iris-virginica']])}\n"
          ]
        }
      ]
    },
    {
      "cell_type": "markdown",
      "source": [
        "**Alternative 2: Decision Tree Using Gini Impurity and Information Gain**"
      ],
      "metadata": {
        "id": "OkT0OvZX7liP"
      },
      "id": "OkT0OvZX7liP"
    },
    {
      "cell_type": "code",
      "source": [
        "import numpy as np\n",
        "\n",
        "class Node:\n",
        "    def __init__(self, feature=None, threshold=None, left=None, right=None, value=None):\n",
        "        self.feature = feature\n",
        "        self.threshold = threshold\n",
        "        self.left = left\n",
        "        self.right = right\n",
        "        self.value = value\n",
        "\n",
        "class DecisionTreeFromScratch:\n",
        "    def __init__(self, criterion=\"gini\"):\n",
        "        self.root = None\n",
        "        self.criterion = criterion\n",
        "\n",
        "    def gini(self, y):\n",
        "        classes = np.unique(y)\n",
        "        total_samples = len(y)\n",
        "        impurity = 1.0\n",
        "\n",
        "        for c in classes:\n",
        "            p_c = len(y[y == c]) / total_samples\n",
        "            impurity -= p_c ** 2\n",
        "        return impurity\n",
        "\n",
        "    def entropy(self, y):\n",
        "        classes = np.unique(y)\n",
        "        total_samples = len(y)\n",
        "        entropy = 0.0\n",
        "\n",
        "        for c in classes:\n",
        "            p_c = len(y[y == c]) / total_samples\n",
        "            if p_c > 0:\n",
        "                entropy -= p_c * np.log2(p_c)\n",
        "        return entropy\n",
        "\n",
        "    def information_gain(self, parent, left_child, right_child):\n",
        "        weight_left = len(left_child) / len(parent)\n",
        "        weight_right = len(right_child) / len(parent)\n",
        "\n",
        "        if self.criterion == \"gini\":\n",
        "            gain = self.gini(parent) - (weight_left * self.gini(left_child) +\n",
        "                                      weight_right * self.gini(right_child))\n",
        "        else:\n",
        "            gain = self.entropy(parent) - (weight_left * self.entropy(left_child) +\n",
        "                                         weight_right * self.entropy(right_child))\n",
        "        return gain\n",
        "\n",
        "    def split(self, X, y, feature, threshold):\n",
        "        left_mask = X[:, feature] <= threshold\n",
        "        right_mask = ~left_mask\n",
        "        return X[left_mask], X[right_mask], y[left_mask], y[right_mask]\n",
        "\n",
        "    def find_best_split(self, X, y):\n",
        "        best_gain = -1\n",
        "        best_feature = None\n",
        "        best_threshold = None\n",
        "\n",
        "        n_features = X.shape[1]\n",
        "\n",
        "        for feature in range(n_features):\n",
        "            thresholds = np.unique(X[:, feature])\n",
        "\n",
        "            for threshold in thresholds:\n",
        "                X_left, X_right, y_left, y_right = self.split(X, y, feature, threshold)\n",
        "\n",
        "                if len(y_left) == 0 or len(y_right) == 0:\n",
        "                    continue\n",
        "\n",
        "                gain = self.information_gain(y, y_left, y_right)\n",
        "\n",
        "                if gain > best_gain:\n",
        "                    best_gain = gain\n",
        "                    best_feature = feature\n",
        "                    best_threshold = threshold\n",
        "\n",
        "        return best_feature, best_threshold\n",
        "\n",
        "    def build_tree(self, X, y, depth=0, max_depth=5):\n",
        "        n_samples = len(y)\n",
        "        n_classes = len(np.unique(y))\n",
        "\n",
        "        # Stopping criteria\n",
        "        if (n_classes == 1 or depth >= max_depth or n_samples < 2):\n",
        "            leaf_value = np.argmax(np.bincount(y))\n",
        "            return Node(value=leaf_value)\n",
        "\n",
        "        best_feature, best_threshold = self.find_best_split(X, y)\n",
        "\n",
        "        if best_feature is None:\n",
        "            leaf_value = np.argmax(np.bincount(y))\n",
        "            return Node(value=leaf_value)\n",
        "\n",
        "        X_left, X_right, y_left, y_right = self.split(X, y, best_feature, best_threshold)\n",
        "\n",
        "        left_subtree = self.build_tree(X_left, y_left, depth + 1, max_depth)\n",
        "        right_subtree = self.build_tree(X_right, y_right, depth + 1, max_depth)\n",
        "\n",
        "        return Node(best_feature, best_threshold, left_subtree, right_subtree)\n",
        "\n",
        "    def fit(self, X, y, max_depth=5):\n",
        "        self.root = self.build_tree(X, y, max_depth=max_depth)\n",
        "\n",
        "    def predict_single(self, x, node):\n",
        "        if node.value is not None:\n",
        "            return node.value\n",
        "\n",
        "        if x[node.feature] <= node.threshold:\n",
        "            return self.predict_single(x, node.left)\n",
        "        return self.predict_single(x, node.right)\n",
        "\n",
        "    def predict(self, X):\n",
        "        return np.array([self.predict_single(x, self.root) for x in X])\n",
        "\n",
        "# Example usage with the iris dataset\n",
        "iris_data = np.array([\n",
        "    [5.1, 3.5, 1.4, 0.2, 0],  # Iris-setosa\n",
        "    [4.9, 3.0, 1.4, 0.2, 0],  # Iris-setosa\n",
        "    [4.7, 3.2, 1.3, 0.2, 0],  # Iris-setosa\n",
        "    [6.3, 3.3, 6.0, 2.5, 1],  # Iris-virginica\n",
        "    [5.8, 2.7, 5.1, 1.9, 1],  # Iris-virginica\n",
        "    [7.1, 3.0, 5.9, 2.1, 1]   # Iris-virginica\n",
        "])\n",
        "\n",
        "X = iris_data[:, :-1]\n",
        "y = iris_data[:, -1].astype(int)\n",
        "\n",
        "# Train with Gini impurity\n",
        "tree_gini = DecisionTreeFromScratch(criterion=\"gini\")\n",
        "tree_gini.fit(X, y)\n",
        "\n",
        "# Train with Information Gain\n",
        "tree_entropy = DecisionTreeFromScratch(criterion=\"entropy\")\n",
        "tree_entropy.fit(X, y)\n",
        "\n",
        "# Make predictions\n",
        "predictions_gini = tree_gini.predict(X)\n",
        "predictions_entropy = tree_entropy.predict(X)\n",
        "\n",
        "print(\"Gini Predictions:\", predictions_gini)\n",
        "print(\"Entropy Predictions:\", predictions_entropy)"
      ],
      "metadata": {
        "colab": {
          "base_uri": "https://localhost:8080/"
        },
        "id": "PIR46WQt0PfH",
        "executionInfo": {
          "status": "ok",
          "timestamp": 1731002961488,
          "user_tz": -180,
          "elapsed": 10,
          "user": {
            "displayName": "",
            "userId": ""
          }
        },
        "outputId": "411903d7-be96-4fd8-c603-26e7068c278f"
      },
      "id": "PIR46WQt0PfH",
      "execution_count": 28,
      "outputs": [
        {
          "output_type": "stream",
          "name": "stdout",
          "text": [
            "Gini Predictions: [0 0 0 1 1 1]\n",
            "Entropy Predictions: [0 0 0 1 1 1]\n"
          ]
        }
      ]
    },
    {
      "cell_type": "markdown",
      "source": [
        "**Part 1: Heart Disease Prediction Models**"
      ],
      "metadata": {
        "id": "xXRzjStF7yW3"
      },
      "id": "xXRzjStF7yW3"
    },
    {
      "cell_type": "code",
      "source": [
        "# Importing necessary libraries\n",
        "import pandas as pd\n",
        "import numpy as np\n",
        "from sklearn.tree import DecisionTreeClassifier\n",
        "from sklearn.ensemble import RandomForestClassifier\n",
        "from xgboost import XGBClassifier\n",
        "from sklearn.model_selection import cross_val_score, cross_val_predict\n",
        "from sklearn.metrics import f1_score, accuracy_score, roc_auc_score, make_scorer\n",
        "import matplotlib.pyplot as plt\n",
        "from sklearn.cluster import SpectralClustering\n",
        "\n",
        "# Download and load the dataset\n",
        "url = \"https://archive.ics.uci.edu/ml/machine-learning-databases/heart-disease/processed.cleveland.data\"\n",
        "columns = [\"age\", \"sex\", \"cp\", \"trestbps\", \"chol\", \"fbs\", \"restecg\", \"thalach\", \"exang\",\n",
        "           \"oldpeak\", \"slope\", \"ca\", \"thal\", \"num\"]\n",
        "data = pd.read_csv(url, names=columns)\n",
        "\n",
        "# Basic preprocessing steps\n",
        "data.replace('?', np.nan, inplace=True)\n",
        "data = data.dropna()  # Drop rows with missing values\n",
        "data[\"num\"] = data[\"num\"].apply(lambda x: 1 if x > 0 else 0)  # Convert 'num' to binary\n"
      ],
      "metadata": {
        "id": "YdDEbs4tfq-_"
      },
      "id": "YdDEbs4tfq-_",
      "execution_count": null,
      "outputs": []
    },
    {
      "cell_type": "code",
      "source": [
        "\n",
        "# Load the dataset\n",
        "url = \"https://archive.ics.uci.edu/ml/machine-learning-databases/heart-disease/processed.cleveland.data\"\n",
        "columns = [\"age\", \"sex\", \"cp\", \"trestbps\", \"chol\", \"fbs\", \"restecg\", \"thalach\", \"exang\",\n",
        "           \"oldpeak\", \"slope\", \"ca\", \"thal\", \"num\"]\n",
        "data = pd.read_csv(url, names=columns)\n",
        "\n",
        "# Replace missing values marked with '?' in dataset\n",
        "data.replace('?', float('nan'), inplace=True)\n",
        "data = data.dropna()  # Drop rows with missing values\n",
        "data[\"num\"] = data[\"num\"].apply(lambda x: 1 if x > 0 else 0)  # Convert 'num' to binary\n"
      ],
      "metadata": {
        "id": "xr2vd-keh4n7"
      },
      "id": "xr2vd-keh4n7",
      "execution_count": null,
      "outputs": []
    },
    {
      "cell_type": "markdown",
      "source": [
        "Decision Tree Model with 10-Fold Cross-Validation"
      ],
      "metadata": {
        "id": "XYaDmd4r9sJY"
      },
      "id": "XYaDmd4r9sJY"
    },
    {
      "cell_type": "code",
      "source": [
        "from sklearn.model_selection import train_test_split\n",
        "\n",
        "X = data.drop(columns=\"num\")\n",
        "y = data[\"num\"]\n",
        "\n",
        "# Use 10-fold cross-validation later in the models\n",
        "\n",
        "from sklearn.tree import DecisionTreeClassifier\n",
        "from sklearn.model_selection import cross_val_score, cross_val_predict\n",
        "from sklearn.metrics import f1_score, accuracy_score, roc_auc_score\n",
        "\n",
        "# Initialize Decision Tree Classifier\n",
        "dt_model = DecisionTreeClassifier()\n"
      ],
      "metadata": {
        "id": "EFNKKvWcicx-"
      },
      "id": "EFNKKvWcicx-",
      "execution_count": null,
      "outputs": []
    },
    {
      "cell_type": "code",
      "source": [
        "from sklearn.metrics import make_scorer\n",
        "\n",
        "# Custom scorer for F1, Accuracy, and AUROC\n",
        "f1 = cross_val_score(dt_model, X, y, cv=10, scoring=make_scorer(f1_score))\n",
        "accuracy = cross_val_score(dt_model, X, y, cv=10, scoring=make_scorer(accuracy_score))\n",
        "auroc = cross_val_score(dt_model, X, y, cv=10, scoring=\"roc_auc\")\n",
        "\n",
        "print(\"Decision Tree Performance:\")\n",
        "print(\"F1 Score:\", f1.mean())\n",
        "print(\"Accuracy:\", accuracy.mean())\n",
        "print(\"AUROC:\", auroc.mean())\n"
      ],
      "metadata": {
        "colab": {
          "base_uri": "https://localhost:8080/"
        },
        "id": "djoUby_Viu_4",
        "executionInfo": {
          "status": "ok",
          "timestamp": 1730998373240,
          "user_tz": -180,
          "elapsed": 735,
          "user": {
            "displayName": "",
            "userId": ""
          }
        },
        "outputId": "35d6548e-d2df-45fb-bd4e-c686a9dfd3bc"
      },
      "id": "djoUby_Viu_4",
      "execution_count": null,
      "outputs": [
        {
          "output_type": "stream",
          "name": "stdout",
          "text": [
            "Decision Tree Performance:\n",
            "F1 Score: 0.7107023274077247\n",
            "Accuracy: 0.7374712643678161\n",
            "AUROC: 0.742548076923077\n"
          ]
        }
      ]
    },
    {
      "cell_type": "markdown",
      "source": [
        "Random Forest Model with 10-Fold Cross-Validation"
      ],
      "metadata": {
        "id": "6ULDb3r590qc"
      },
      "id": "6ULDb3r590qc"
    },
    {
      "cell_type": "code",
      "source": [
        "from sklearn.ensemble import RandomForestClassifier\n",
        "\n",
        "# Initialize Random Forest Classifier\n",
        "rf_model = RandomForestClassifier(n_estimators=100, random_state=42)\n"
      ],
      "metadata": {
        "id": "nYbCBVqwi2sg"
      },
      "id": "nYbCBVqwi2sg",
      "execution_count": null,
      "outputs": []
    },
    {
      "cell_type": "code",
      "source": [
        "f1 = cross_val_score(rf_model, X, y, cv=10, scoring=make_scorer(f1_score))\n",
        "accuracy = cross_val_score(rf_model, X, y, cv=10, scoring=make_scorer(accuracy_score))\n",
        "auroc = cross_val_score(rf_model, X, y, cv=10, scoring=\"roc_auc\")\n",
        "\n",
        "print(\"Random Forest Performance:\")\n",
        "print(\"F1 Score:\", f1.mean())\n",
        "print(\"Accuracy:\", accuracy.mean())\n",
        "print(\"AUROC:\", auroc.mean())\n"
      ],
      "metadata": {
        "colab": {
          "base_uri": "https://localhost:8080/"
        },
        "id": "irvG_-9bjAhy",
        "executionInfo": {
          "status": "ok",
          "timestamp": 1730998449216,
          "user_tz": -180,
          "elapsed": 5107,
          "user": {
            "displayName": "",
            "userId": ""
          }
        },
        "outputId": "1c0faed5-f965-441b-adeb-048e5547cb5a"
      },
      "id": "irvG_-9bjAhy",
      "execution_count": null,
      "outputs": [
        {
          "output_type": "stream",
          "name": "stdout",
          "text": [
            "Random Forest Performance:\n",
            "F1 Score: 0.8052280503767181\n",
            "Accuracy: 0.8280459770114943\n",
            "AUROC: 0.9014079670329671\n"
          ]
        }
      ]
    },
    {
      "cell_type": "markdown",
      "source": [
        "Boosting Model with 10-Fold Cross-Validation"
      ],
      "metadata": {
        "id": "hjAADkMe97vF"
      },
      "id": "hjAADkMe97vF"
    },
    {
      "cell_type": "code",
      "source": [
        "from xgboost import XGBClassifier\n",
        "\n",
        "# Initialize XGBoost Classifier\n",
        "xgb_model = XGBClassifier(use_label_encoder=False, eval_metric='logloss')\n"
      ],
      "metadata": {
        "id": "wspQ8JVSjGqR"
      },
      "id": "wspQ8JVSjGqR",
      "execution_count": null,
      "outputs": []
    },
    {
      "cell_type": "code",
      "source": [
        "from sklearn.metrics import f1_score, accuracy_score, make_scorer\n",
        "from sklearn.model_selection import cross_val_score\n",
        "from xgboost import XGBClassifier\n",
        "\n",
        "# Initialize the XGBClassifier without the deprecated parameter\n",
        "xgb_model = XGBClassifier(eval_metric=\"logloss\", random_state=42)\n",
        "\n",
        "# Calculate F1 Score, Accuracy, and AUROC with cross-validation\n",
        "f1 = cross_val_score(xgb_model, X, y, cv=10, scoring=make_scorer(f1_score))\n",
        "accuracy = cross_val_score(xgb_model, X, y, cv=10, scoring=make_scorer(accuracy_score))\n",
        "auroc = cross_val_score(xgb_model, X, y, cv=10, scoring=\"roc_auc\")\n",
        "\n",
        "print(\"Boosting Model Performance:\")\n",
        "print(f\"F1 Score: {f1.mean()}\")\n",
        "print(f\"Accuracy: {accuracy.mean()}\")\n",
        "print(f\"AUROC: {auroc.mean()}\")\n"
      ],
      "metadata": {
        "id": "wsLKCXibkfIX",
        "executionInfo": {
          "status": "ok",
          "timestamp": 1730999850721,
          "user_tz": -180,
          "elapsed": 2472,
          "user": {
            "displayName": "",
            "userId": ""
          }
        },
        "outputId": "435018ab-e6a2-49e4-93e4-7ea54228ca0c",
        "colab": {
          "base_uri": "https://localhost:8080/"
        }
      },
      "id": "wsLKCXibkfIX",
      "execution_count": null,
      "outputs": [
        {
          "output_type": "stream",
          "name": "stdout",
          "text": [
            "Boosting Model Performance:\n",
            "F1 Score: 0.7632134181173693\n",
            "Accuracy: 0.7909195402298852\n",
            "AUROC: 0.8854052197802199\n"
          ]
        }
      ]
    },
    {
      "cell_type": "markdown",
      "source": [
        "Models Performance Comparison:\n",
        "\n",
        "F1 Score:\n",
        "Random Forest has the highest F1 score at 0.81, indicating it balances precision and recall better than the other models.\n",
        "Boosting achieves a slightly lower F1 score (0.76) but still outperforms the Decision Tree (0.71).\n",
        "\n",
        "Accuracy:\n",
        "Random Forest again has the highest accuracy at 0.83, followed by Boosting (0.79) and then the Decision Tree (0.74). This means Random Forest is the most accurate in predicting the correct diagnosis of heart disease.\n",
        "\n",
        "AUROC:\n",
        "Random Forest achieves the highest AUROC of 0.90, indicating a strong ability to distinguish between the classes.\n",
        "Boosting also performs well with an AUROC of 0.89, while the Decision Tree model lags behind at 0.74.\n",
        "\n",
        "Conclusion:\n",
        "\n",
        "Overall, the Random Forest model consistently outperforms the Decision Tree and Boosting models across all three metrics (F1 Score, Accuracy, and AUROC), making it the best model among the three for this dataset. Boosting also performs well but falls slightly short of Random Forest, especially in terms of F1 Score and AUROC. The Decision Tree, while functional, has the lowest performance, which is often expected for single trees compared to ensemble methods like Random Forest and Boosting."
      ],
      "metadata": {
        "id": "DCLAh8hY_d6N"
      },
      "id": "DCLAh8hY_d6N"
    },
    {
      "cell_type": "markdown",
      "source": [
        "**Part 2: Clustering on Heart Disease Dataset**"
      ],
      "metadata": {
        "id": "SFz-G-yuAIRd"
      },
      "id": "SFz-G-yuAIRd"
    },
    {
      "cell_type": "markdown",
      "source": [
        "Implement K-Means Clustering"
      ],
      "metadata": {
        "id": "e5hAwVMjARpS"
      },
      "id": "e5hAwVMjARpS"
    },
    {
      "cell_type": "code",
      "source": [
        "import numpy as np\n",
        "\n",
        "def initialize_centroids(X, k):\n",
        "    np.random.seed(42)\n",
        "    centroids = X[np.random.choice(X.shape[0], k, replace=False)]\n",
        "    return centroids\n",
        "\n",
        "def assign_clusters(X, centroids):\n",
        "    # Calculate Euclidean distance between each data point and centroid\n",
        "    distances = np.linalg.norm(X[:, np.newaxis] - centroids, axis=2)\n",
        "    return np.argmin(distances, axis=1)\n",
        "\n",
        "def update_centroids(X, labels, k):\n",
        "    # Update centroids by computing the mean of each cluster\n",
        "    return np.array([X[labels == i].mean(axis=0) for i in range(k)])\n",
        "\n",
        "def kmeans(X, k, iterations=100):\n",
        "    # Check if X is 2D, reshape if necessary\n",
        "    if X.ndim == 1:\n",
        "        X = X.reshape(-1, 1)\n",
        "    centroids = initialize_centroids(X, k)\n",
        "    for _ in range(iterations):\n",
        "        labels = assign_clusters(X, centroids)\n",
        "        new_centroids = update_centroids(X, labels, k)\n",
        "        if np.all(centroids == new_centroids):\n",
        "            break\n",
        "        centroids = new_centroids\n",
        "    return labels, centroids\n",
        "\n",
        "# Test data (ensure X is a 2D array)\n",
        "X = [[1.0, 2.0], [1.5, 1.8], [5.0, 8.0], [8.0, 8.0], [1.0, 0.6], [9.0, 11.0]]\n",
        "X_array = np.array(X)\n",
        "k = 2  # Number of clusters\n",
        "labels, centroids = kmeans(X_array, k)\n",
        "\n",
        "# Output\n",
        "print(\"Labels:\", labels)\n",
        "print(\"Centroids:\", centroids)\n"
      ],
      "metadata": {
        "colab": {
          "base_uri": "https://localhost:8080/"
        },
        "id": "NlpBSMCzwGyC",
        "executionInfo": {
          "status": "ok",
          "timestamp": 1731001878121,
          "user_tz": -180,
          "elapsed": 20,
          "user": {
            "displayName": "",
            "userId": ""
          }
        },
        "outputId": "ec6adfe2-18ba-4509-d91f-45a0c6fb535c"
      },
      "id": "NlpBSMCzwGyC",
      "execution_count": 24,
      "outputs": [
        {
          "output_type": "stream",
          "name": "stdout",
          "text": [
            "Labels: [0 0 1 1 0 1]\n",
            "Centroids: [[1.16666667 1.46666667]\n",
            " [7.33333333 9.        ]]\n"
          ]
        }
      ]
    },
    {
      "cell_type": "markdown",
      "source": [
        "Visualize K-Means Results"
      ],
      "metadata": {
        "id": "47UD1Q5UAXhx"
      },
      "id": "47UD1Q5UAXhx"
    },
    {
      "cell_type": "code",
      "source": [
        "import matplotlib.pyplot as plt\n",
        "\n",
        "plt.scatter(X_array[:, 0], X_array[:, 1], c=labels, cmap=\"viridis\")\n",
        "plt.scatter(centroids[:, 0], centroids[:, 1], s=300, c=\"red\", label=\"Centroids\")\n",
        "plt.xlabel(\"Feature 1\")\n",
        "plt.ylabel(\"Feature 2\")\n",
        "plt.legend()\n",
        "plt.show()\n"
      ],
      "metadata": {
        "colab": {
          "base_uri": "https://localhost:8080/",
          "height": 449
        },
        "id": "KqLGh3Lww1Nn",
        "executionInfo": {
          "status": "ok",
          "timestamp": 1731002067404,
          "user_tz": -180,
          "elapsed": 750,
          "user": {
            "displayName": "",
            "userId": ""
          }
        },
        "outputId": "33fb04d1-cd6f-450e-9b19-743266b0c50b"
      },
      "id": "KqLGh3Lww1Nn",
      "execution_count": 25,
      "outputs": [
        {
          "output_type": "display_data",
          "data": {
            "text/plain": [
              "<Figure size 640x480 with 1 Axes>"
            ],
            "image/png": "[encoded data removed]"
          },
          "metadata": {}
        }
      ]
    },
    {
      "cell_type": "markdown",
      "source": [
        "Spectral Clustering"
      ],
      "metadata": {
        "id": "rzEUS-pHAcnf"
      },
      "id": "rzEUS-pHAcnf"
    },
    {
      "cell_type": "code",
      "source": [
        "from sklearn.cluster import SpectralClustering\n",
        "import matplotlib.pyplot as plt\n",
        "\n",
        "# Define number of clusters and neighbors\n",
        "k = 2  # Number of clusters\n",
        "n_neighbors = 3  # Set neighbors <= number of samples\n",
        "\n",
        "# Initialize and fit the Spectral Clustering model\n",
        "spectral_model = SpectralClustering(n_clusters=k, affinity='nearest_neighbors', n_neighbors=n_neighbors)\n",
        "spectral_labels = spectral_model.fit_predict(X_array)\n",
        "\n",
        "# Visualize Spectral Clustering results\n",
        "plt.scatter(X_array[:, 0], X_array[:, 1], c=spectral_labels, cmap=\"coolwarm\")\n",
        "plt.xlabel(\"Feature 1\")\n",
        "plt.ylabel(\"Feature 2\")\n",
        "plt.title(\"Spectral Clustering Results\")\n",
        "plt.show()\n"
      ],
      "metadata": {
        "colab": {
          "base_uri": "https://localhost:8080/",
          "height": 527
        },
        "id": "BrBDZ5oNyqby",
        "executionInfo": {
          "status": "ok",
          "timestamp": 1731002548340,
          "user_tz": -180,
          "elapsed": 894,
          "user": {
            "displayName": "",
            "userId": ""
          }
        },
        "outputId": "4c1726d4-14e2-4c62-e5fd-0ffc9883564d"
      },
      "id": "BrBDZ5oNyqby",
      "execution_count": 27,
      "outputs": [
        {
          "output_type": "stream",
          "name": "stderr",
          "text": [
            "/usr/local/lib/python3.10/dist-packages/sklearn/manifold/_spectral_embedding.py:329: UserWarning: Graph is not fully connected, spectral embedding may not work as expected.\n",
            "  warnings.warn(\n"
          ]
        },
        {
          "output_type": "display_data",
          "data": {
            "text/plain": [
              "<Figure size 640x480 with 1 Axes>"
            ],
            "image/png": "[encoded data removed]"
          },
          "metadata": {}
        }
      ]
    }
  ],
  "metadata": {
    "kernelspec": {
      "display_name": "Python 3",
      "language": "python",
      "name": "python3"
    },
    "language_info": {
      "codemirror_mode": {
        "name": "ipython",
        "version": 3
      },
      "file_extension": ".py",
      "mimetype": "text/x-python",
      "name": "python",
      "nbconvert_exporter": "python",
      "pygments_lexer": "ipython3",
      "version": "3.10.10"
    },
    "colab": {
      "provenance": [],
      "name": "msimhadri (Nov 7, 2024, 7:33:35 PM)"
    }
  },
  "nbformat": 4,
  "nbformat_minor": 5
}